{
  "cells": [
    {
      "cell_type": "markdown",
      "metadata": {
        "id": "view-in-github",
        "colab_type": "text"
      },
      "source": [
        "<a href=\"https://colab.research.google.com/github/Nemo-netidol/Beta_programming/blob/main/%E0%B9%81%E0%B8%9A%E0%B8%9A%E0%B8%9D%E0%B8%B6%E0%B8%81%E0%B8%AB%E0%B8%B1%E0%B8%944_Copy1.ipynb\" target=\"_parent\"><img src=\"https://colab.research.google.com/assets/colab-badge.svg\" alt=\"Open In Colab\"/></a>"
      ]
    },
    {
      "cell_type": "markdown",
      "metadata": {
        "id": "U3ArbMi8JHGD"
      },
      "source": [
        "# แบบฝึกหัด 4"
      ]
    },
    {
      "cell_type": "markdown",
      "metadata": {
        "id": "t9RQYuu-JUwP"
      },
      "source": [
        "---"
      ]
    },
    {
      "cell_type": "code",
      "execution_count": null,
      "metadata": {
        "id": "5LcuhePsgM1w"
      },
      "outputs": [],
      "source": [
        "import numpy as np\n",
        "import pandas as pd\n",
        "import statistics\n",
        "from math import perm, comb"
      ]
    },
    {
      "cell_type": "markdown",
      "metadata": {
        "id": "uoKssbJRv2Xu"
      },
      "source": [
        "###  "
      ]
    },
    {
      "cell_type": "markdown",
      "metadata": {
        "id": "ag3TNOoapF2I"
      },
      "source": [
        "4.1 ในงานเลี้ยงฉลองปีใหม่แห่งหนึ่งมีการจับฉลากรางวัลเป็น iPhone 14 Pro Max โดยในกล่องจับฉลากมีฉลากทั้งหมด 100 ฉลาก และมีเพียง 10 ฉลากที่จะได้ iPhone 14 Pro Max จงหาค่าดังต่อไปนี้  \n",
        "- ความน่าจะเป็นที่จะจับฉลากไม่ได้ iPhone 14 Pro เมื่อได้สิทธิ์จับฉลากพร้อมกัน 3 ใบ (จับแบบไม่ใส่คืน)"
      ]
    },
    {
      "cell_type": "code",
      "execution_count": null,
      "metadata": {
        "id": "sTxJEwzZqEk2",
        "outputId": "40456194-ffc7-4fd1-bf0c-7d5b61d401be"
      },
      "outputs": [
        {
          "name": "stdout",
          "output_type": "stream",
          "text": [
            "Probability is 0.726530612244898\n"
          ]
        }
      ],
      "source": [
        "#แสดงวิธีทำ\n",
        "pe = comb(90, 3)\n",
        "ps = comb(100, 3) # sample space\n",
        "\n",
        "ans1 = pe / ps\n",
        "print(\"Probability is\", ans1)"
      ]
    },
    {
      "cell_type": "markdown",
      "metadata": {
        "id": "ED-OCCPQqCRW"
      },
      "source": [
        "- ความน่าจะเป็นที่จะจับฉลากได้ iPhone 14 Pro 1 เครื่องเมื่อได้สิทธิ์จับฉลาก 3 ใบ (จับแบบไม่ใส่คืน)"
      ]
    },
    {
      "cell_type": "code",
      "execution_count": null,
      "metadata": {
        "id": "XphrKloZXRyR",
        "outputId": "22def8d6-9a91-4e4b-ec7e-aa469183ddb7"
      },
      "outputs": [
        {
          "name": "stdout",
          "output_type": "stream",
          "text": [
            "Probability is 0.24768089053803338\n"
          ]
        }
      ],
      "source": [
        "#แสดงวิธีทำ\n",
        "pe = comb(10, 1) * comb(90, 2)\n",
        "ps = comb(100, 3) # sample space\n",
        "ans = pe / ps\n",
        "print(\"Probability is\", ans)"
      ]
    },
    {
      "cell_type": "markdown",
      "metadata": {
        "id": "EeXadDqerEhv"
      },
      "source": [
        "- ความน่าจะเป็นที่จะจับฉลากได้ iPhone 14 Pro ***อย่างน้อย*** 1 เครื่องเมื่อได้สิทธิ์จับฉลาก 3 ใบ (จับแบบไม่ใส่คืน)"
      ]
    },
    {
      "cell_type": "code",
      "execution_count": null,
      "metadata": {
        "id": "gNk7pg80XU_y",
        "outputId": "c90a1741-a0c3-426c-c89b-1773e0bc9b47"
      },
      "outputs": [
        {
          "name": "stdout",
          "output_type": "stream",
          "text": [
            "Probability is 0.273469387755102\n"
          ]
        }
      ],
      "source": [
        "#แสดงวิธีทำ\n",
        "ans1# ไม่ได้ซักเครื่อง \n",
        "# probability 100% - ไม่ได้ซักเครื่อง\n",
        "ans = 1 - ans1\n",
        "print(\"Probability is\", ans)"
      ]
    },
    {
      "cell_type": "markdown",
      "metadata": {
        "id": "ccAoGUYJtDas"
      },
      "source": [
        "- หากนาย ก. ตกลงกับเพื่อนที่ไปงานเลี้ยงด้วยกันอีก 9 คนว่าหากใครจับฉลากได้ iPhone 14 Pro จะนำไปขายทอดตลาดและนำเงินมาแบ่งกัน จงความน่าจะเป็นที่จะจับฉลากได้ iPhone 14 Pro ***อย่างน้อย*** 1 เครื่องเมื่อ ทั้ง 10 คนได้สิทธิ์จับฉลากคนละใบ (จับแบบไม่ใส่คืน) หากกำหนดให้ตัวแปรสุ่ม X แทนจำนวนเครื่อง iPhone 14 ที่จับรางวัลได้ จงแสดงค่าของ X และฟังก์ชันความน่าจะเป็นของ X และหาค่า P(X≥1)"
      ]
    },
    {
      "cell_type": "markdown",
      "metadata": {
        "id": "hRMJhQaBX6cE"
      },
      "source": [
        "\\\n",
        "X =  {0, 1, 2, 3, 4, 5, 6, 7, 8, 9, 10}"
      ]
    },
    {
      "cell_type": "markdown",
      "metadata": {
        "id": "bmvqy2B_waAk"
      },
      "source": [
        "\\\n",
        "ฟังก์ชันความน่าจะเป็นของ X:"
      ]
    },
    {
      "cell_type": "code",
      "execution_count": null,
      "metadata": {
        "id": "kaCtSxufXYk_"
      },
      "outputs": [],
      "source": [
        "#แสดงวิธีทำ\n",
        "def p1(X):\n",
        "    return (comb(10, X) * comb(90, 10-X)) / comb(100, 10)"
      ]
    },
    {
      "cell_type": "markdown",
      "metadata": {
        "id": "9pXS-WTSxQ3J"
      },
      "source": [
        "\\\n",
        "ค่าความน่าจะเป็นที่จะจับฉลากได้ iPhone 14 Pro อย่างน้อย 1 เครื่อง, P(X≥1):  "
      ]
    },
    {
      "cell_type": "code",
      "execution_count": null,
      "metadata": {
        "id": "8kPYDZUjXdBX",
        "outputId": "a68c2a9e-86f4-4fbb-8ef9-74c242846013"
      },
      "outputs": [
        {
          "name": "stdout",
          "output_type": "stream",
          "text": [
            "Probability is 0.6695237889132748\n"
          ]
        }
      ],
      "source": [
        "#แสดงวิธีทำ\n",
        "\n",
        "ans = 1 - p1(0)\n",
        "print(\"Probability is\", ans)"
      ]
    },
    {
      "cell_type": "markdown",
      "metadata": {
        "id": "sko5rsVdz7YZ"
      },
      "source": [
        "###  "
      ]
    },
    {
      "cell_type": "markdown",
      "metadata": {
        "id": "O-jANK7-JY2X"
      },
      "source": [
        "4.2 กล่องใบที่หนึ่งมีลูกบอล 10 ลูก  \n",
        "เป็นสีขาว 5 ลูก สีแดง 3 ลูก และสีน้ำเงิน 2 ลูก   \n",
        "กล่องใบที่สองมีลูกบอล 15 ลูก  \n",
        "เป็นสีขาว 8 ลูก สีแดง 5 ลูก และสีน้ำเงิน 2 ลูก  \n",
        "ถ้าสุ่มหยิบลูกบอล 1 ลูกจาก\n",
        "แต่ละกล่อง จงหาความน่าจะเป็นที่จะได้ลูกบอลสีเดียวกัน"
      ]
    },
    {
      "cell_type": "code",
      "execution_count": null,
      "metadata": {
        "id": "4ixkdz1cXlVP",
        "outputId": "9d4bf935-edee-4c5f-c9c4-6a82ac3ea396"
      },
      "outputs": [
        {
          "name": "stdout",
          "output_type": "stream",
          "text": [
            "Probability is 0.3933333333333333\n"
          ]
        }
      ],
      "source": [
        "#แสดงวิธีทำ\n",
        "\n",
        "propWhite = 5 * 8\n",
        "propRed = 3 * 5\n",
        "propBlue = 2 * 2\n",
        "\n",
        "interest_prop = propWhite + propRed + propBlue\n",
        "ns = 10 * 15\n",
        "ans = interest_prop / ns\n",
        "\n",
        "print(\"Probability is\", ans)"
      ]
    },
    {
      "cell_type": "markdown",
      "metadata": {
        "id": "oCLmBTL-0RLG"
      },
      "source": [
        "###  "
      ]
    },
    {
      "cell_type": "markdown",
      "metadata": {
        "id": "QYuXplcT0RLH"
      },
      "source": [
        "4.3 ตู้กาชาปองตู้หนึ่งมีฟิกเกอร์รูปสุนัข 2 ชิ้น และฟิกเกอร์รูปแมว 2 ชิ้น หากนางสาว มิคาสะ ทำการหยอดเหรียญและหมุนกาชาปองสามครั้งโดยแต่ละครั้งจะได้ฟิกเกอร์ 1 ชิ้นแบบสุ่ม โดยนางสาวมิคาสะสนใจการได้ฟิกเกอร์รูปแมว จงแสดงค่าของตัวแปรสุ่ม X ที่สนใจและฟังก์ชันความน่าจะเป็นของ X พร้อมทั้งหาค่าความน่าจะเป็นที่นางสาวมิคาสะจะได้ฟิกเกอร์แมวอย่างน้อย 1 ชิ้น, P(X≥1)"
      ]
    },
    {
      "cell_type": "markdown",
      "metadata": {
        "id": "wIDN4bmrX1SX"
      },
      "source": [
        "\\\n",
        "X =  {1, 2}"
      ]
    },
    {
      "cell_type": "markdown",
      "metadata": {
        "id": "Hdq9mqxFGc89"
      },
      "source": [
        "\\\n",
        "ฟังก์ชันความน่าจะเป็นของ X:  "
      ]
    },
    {
      "cell_type": "code",
      "execution_count": null,
      "metadata": {
        "id": "jbV5MphqXqbq"
      },
      "outputs": [],
      "source": [
        "#แสดงวิธีทำ\n",
        "def iWantCat(X):\n",
        "    return (comb(2, X) * comb(2, 3-X)) / comb(4, 3)"
      ]
    },
    {
      "cell_type": "markdown",
      "metadata": {
        "id": "ro8FfiO-HOb0"
      },
      "source": [
        "\\\n",
        "ค่า P(X≥1): "
      ]
    },
    {
      "cell_type": "code",
      "execution_count": null,
      "metadata": {
        "id": "eGMlvK2UXrtE",
        "outputId": "4a6b8181-79f9-45fe-e354-0054b942c1d8"
      },
      "outputs": [
        {
          "name": "stdout",
          "output_type": "stream",
          "text": [
            "Probability is 1.0\n"
          ]
        }
      ],
      "source": [
        "#แสดงวิธีทำ\n",
        "ans = iWantCat(2) + iWantCat(1)\n",
        "print(\"Probability is\", ans)"
      ]
    },
    {
      "cell_type": "markdown",
      "metadata": {
        "id": "bxFNNm7ehIX8"
      },
      "source": [
        "###  "
      ]
    },
    {
      "cell_type": "markdown",
      "metadata": {
        "id": "hKMe2agshIX8"
      },
      "source": [
        "4.4 บ่อนการพนันแห่งหนึ่งใช้เหรียญซึ่งถูกถ่วงน้ำหนัก โดยโอกาสที่เหรียญจะออกหัวเป็น 2 เท่าของโอกาสที่จะออกก้อย  \n",
        "ถ้าเหรียญขึ้นหัวเขาจะสุ่มเลข 1 ถึง 9 มา 1 หมายเลข  \n",
        "ถ้าเหรียญขึ้นก้อยเขาจะสุ่มเลข 1 ถึง 5 มา 1 หมายเลข  \n",
        "จงหาความน่าจะเป็นที่จะได้หมายเลขคู่ในการโยนเหรียญแต่ละครั้ง"
      ]
    },
    {
      "cell_type": "code",
      "execution_count": null,
      "metadata": {
        "id": "k9pHCyxYYD3-",
        "outputId": "9b0fce30-289e-43b5-a372-f95bf4c3ad35"
      },
      "outputs": [
        {
          "name": "stdout",
          "output_type": "stream",
          "text": [
            "Probability is 0.4296296296296296\n"
          ]
        }
      ],
      "source": [
        "#แสดงวิธีทำ\n",
        "propHead = (2/3)*(4/9) # even number\n",
        "propTail = (1/3)*(2/5) # odd even number\n",
        "\n",
        "ans = propHead + propTail\n",
        "print(\"Probability is\", ans)"
      ]
    },
    {
      "cell_type": "markdown",
      "metadata": {
        "id": "spxd7pSGIBBz"
      },
      "source": [
        "###  "
      ]
    },
    {
      "cell_type": "markdown",
      "metadata": {
        "id": "6JFJ4n80IBB0"
      },
      "source": [
        "4.5 ในการแข่งรถ Grand Prix รายการหนึ่ง มีรถเข้าร่วมแข่งขัน 9 คัน โดยทางบริษัท Tesle ได้ส่งรถเข้าร่วมแข่งขัน 4 คัน จงหา  \n",
        "- จำนวนวิธีทั้งหมดที่รถจะเข้าเส้นชัยในอันดับที่ 1, 2 ***และ*** 3  \n",
        "- ความน่าจะเป็นที่รถของทางบริษัท Tesle จะเข้าเส้นชัยในอันดับที่ 1, 2 ***และ*** 3"
      ]
    },
    {
      "cell_type": "markdown",
      "metadata": {
        "id": "aPtOvBWPPOCB"
      },
      "source": [
        "\\\n",
        "จำนวนวิธีทั้งหมดที่รถจะเข้าเส้นชัยในอันดับที่ 1, 2 และ 3:"
      ]
    },
    {
      "cell_type": "code",
      "execution_count": null,
      "metadata": {
        "id": "yO-fuJuSYHsc",
        "outputId": "5cf9c8e1-76f8-4082-fbc8-cb268deb263b"
      },
      "outputs": [
        {
          "name": "stdout",
          "output_type": "stream",
          "text": [
            "Sample space 504\n"
          ]
        }
      ],
      "source": [
        "#แสดงวิธีทำ\n",
        "e = perm(9, 3)\n",
        "print(\"Sample space\", e)"
      ]
    },
    {
      "cell_type": "markdown",
      "metadata": {
        "id": "SW556OQfScOK"
      },
      "source": [
        "\\\n",
        "ความน่าจะเป็นที่รถของทางบริษัท Tesle จะเข้าเส้นชัยในอันดับที่ 1, 2 และ 3:"
      ]
    },
    {
      "cell_type": "code",
      "execution_count": null,
      "metadata": {
        "id": "JeXHIeJFYJSk",
        "outputId": "74f0e042-06c0-454e-e7d5-0764360694f7"
      },
      "outputs": [
        {
          "name": "stdout",
          "output_type": "stream",
          "text": [
            "Probability is 0.047619047619047616\n"
          ]
        }
      ],
      "source": [
        "#แสดงวิธีทำ\n",
        "tesleWin = perm(4, 3)\n",
        "ans = tesleWin / e\n",
        "print(\"Probability is\", ans)"
      ]
    },
    {
      "cell_type": "markdown",
      "metadata": {
        "id": "APRhD42HT6nZ"
      },
      "source": [
        "###  "
      ]
    },
    {
      "cell_type": "markdown",
      "metadata": {
        "id": "1hLf3dc8T6na"
      },
      "source": [
        "4.6  จากการสำรวจสภาพการมีงานทำของบัณฑิตจบใหม่คณะ ก. และ ข.\n",
        "จำนวน 80 คน ได้ข้อมูลดังตาราง"
      ]
    },
    {
      "cell_type": "markdown",
      "metadata": {
        "id": "Jeg5_4r2T4HI"
      },
      "source": [
        "|คณะ|มีงานทำ|ว่างงาน|\n",
        "|---|------|------|\n",
        "|ก.|40|20|\n",
        "|ข.|13|7|"
      ]
    },
    {
      "cell_type": "markdown",
      "metadata": {
        "id": "QmolidrBVv5v"
      },
      "source": [
        "เมื่อสุ่มมา 1 คน จงหาค่าความน่าจะเป็นดังต่อไปนี้"
      ]
    },
    {
      "cell_type": "markdown",
      "metadata": {
        "id": "Ye1nvhe5WJNA"
      },
      "source": [
        "- จบคณะ ก. และว่างงาน"
      ]
    },
    {
      "cell_type": "markdown",
      "metadata": {
        "id": "5I32Th6fWTOF"
      },
      "source": [
        "- มีงานทำ"
      ]
    },
    {
      "cell_type": "markdown",
      "metadata": {
        "id": "1cAq6LNvWTq4"
      },
      "source": [
        "- จบคณะ ข. และมีงานทำ"
      ]
    },
    {
      "cell_type": "markdown",
      "metadata": {
        "id": "qriQlqXZWUV0"
      },
      "source": [
        "- จบคณะ ข. ถ้าทราบว่าเขามีงานทำ"
      ]
    },
    {
      "cell_type": "markdown",
      "metadata": {
        "id": "cCWWZpQUWUJT"
      },
      "source": [
        "- ว่างงาน ถ้าทราบว่าจบจากคณะ ก."
      ]
    },
    {
      "cell_type": "markdown",
      "metadata": {
        "id": "q902qIytW0Nr"
      },
      "source": [
        "กำหนดให้ A แทนเหตุการณ์จบคณะ ก.  \n",
        "กำหนดให้ B แทนเหตุการณ์จบคณะ ข.  \n",
        "กำหนดให้ J แทนเหตุการณ์มีงานทำ  \n",
        "กำหนดให้ NJ แทนเหตุการณ์ว่างงาน"
      ]
    },
    {
      "cell_type": "markdown",
      "metadata": {
        "id": "Lw5-XIx8X063"
      },
      "source": [
        "\\\n",
        "จบคณะ ก. และว่างงาน:"
      ]
    },
    {
      "cell_type": "code",
      "execution_count": null,
      "metadata": {
        "id": "Jo6MYffVYTiD",
        "outputId": "e2f657d6-1129-4bf1-c6f4-cb6d7668b50b"
      },
      "outputs": [
        {
          "name": "stdout",
          "output_type": "stream",
          "text": [
            "Probability is 0.25\n"
          ]
        }
      ],
      "source": [
        "#แสดงวิธีทำ\n",
        "a_nojob = 20\n",
        "n = 80\n",
        "ans = a_nojob / n\n",
        "print(\"Probability is\", ans)"
      ]
    },
    {
      "cell_type": "markdown",
      "metadata": {
        "id": "DEG6dHtuR4hu"
      },
      "source": [
        "\\\n",
        "มีงานทำ:"
      ]
    },
    {
      "cell_type": "code",
      "execution_count": null,
      "metadata": {
        "id": "25WurgTbYUzL",
        "outputId": "8a3b8c36-7480-4902-803f-8bdde8b2cd36"
      },
      "outputs": [
        {
          "name": "stdout",
          "output_type": "stream",
          "text": [
            "Probability is 0.6625\n"
          ]
        }
      ],
      "source": [
        "#แสดงวิธีทำ\n",
        "have_job = 40 + 13\n",
        "ans = have_job / n\n",
        "print(\"Probability is\", ans)"
      ]
    },
    {
      "cell_type": "markdown",
      "metadata": {
        "id": "traoodaaSWkF"
      },
      "source": [
        "\\\n",
        "จบคณะ ข. และมีงานทำ:  "
      ]
    },
    {
      "cell_type": "code",
      "execution_count": null,
      "metadata": {
        "id": "bf_CC5hrYXp4",
        "outputId": "8a40df27-5a8f-4744-e45e-a98d04df08f7"
      },
      "outputs": [
        {
          "name": "stdout",
          "output_type": "stream",
          "text": [
            "Probability is 0.1625\n"
          ]
        }
      ],
      "source": [
        "#แสดงวิธีทำ\n",
        "b_job = 13\n",
        "ans = b_job / n\n",
        "print(\"Probability is\", ans)"
      ]
    },
    {
      "cell_type": "markdown",
      "metadata": {
        "id": "nr2h1OmFTA0p"
      },
      "source": [
        "\\\n",
        "จบคณะ ข. ถ้าทราบว่าเขามีงานทำ:  "
      ]
    },
    {
      "cell_type": "code",
      "execution_count": null,
      "metadata": {
        "id": "bLKPnfJtYakx",
        "outputId": "82b8232c-aacf-4247-8fcd-a18c11ad4c06"
      },
      "outputs": [
        {
          "name": "stdout",
          "output_type": "stream",
          "text": [
            "Probability is 0.24528301886792453\n"
          ]
        }
      ],
      "source": [
        "#แสดงวิธีทำ\n",
        "# มีงานทำ sample space จะเปลี่ยน\n",
        "\n",
        "b_job = 13\n",
        "n = 53\n",
        "\n",
        "ans = b_job / n\n",
        "print(\"Probability is\", ans)"
      ]
    },
    {
      "cell_type": "markdown",
      "metadata": {
        "id": "KMbB1ZAGTUCP"
      },
      "source": [
        "\\\n",
        "ว่างงาน ถ้าทราบว่าจบจากคณะ ก.:  "
      ]
    },
    {
      "cell_type": "code",
      "execution_count": null,
      "metadata": {
        "id": "BqQ9_iA9Ydup",
        "outputId": "4363228b-25ad-44bf-c062-d0de963719fd"
      },
      "outputs": [
        {
          "name": "stdout",
          "output_type": "stream",
          "text": [
            "Probability is 0.3333333333333333\n"
          ]
        }
      ],
      "source": [
        "#แสดงวิธีทำ\n",
        "\n",
        "n = 60\n",
        "a_nojob = 20\n",
        "\n",
        "ans = a_nojob / n\n",
        "print(\"Probability is\", ans)"
      ]
    }
  ],
  "metadata": {
    "colab": {
      "provenance": [],
      "include_colab_link": true
    },
    "kernelspec": {
      "display_name": "Python 3 (ipykernel)",
      "language": "python",
      "name": "python3"
    },
    "language_info": {
      "codemirror_mode": {
        "name": "ipython",
        "version": 3
      },
      "file_extension": ".py",
      "mimetype": "text/x-python",
      "name": "python",
      "nbconvert_exporter": "python",
      "pygments_lexer": "ipython3",
      "version": "3.9.15"
    }
  },
  "nbformat": 4,
  "nbformat_minor": 0
}