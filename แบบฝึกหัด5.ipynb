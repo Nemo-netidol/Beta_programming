{
  "nbformat": 4,
  "nbformat_minor": 0,
  "metadata": {
    "colab": {
      "provenance": [],
      "include_colab_link": true
    },
    "kernelspec": {
      "name": "python3",
      "display_name": "Python 3"
    },
    "language_info": {
      "name": "python"
    }
  },
  "cells": [
    {
      "cell_type": "markdown",
      "metadata": {
        "id": "view-in-github",
        "colab_type": "text"
      },
      "source": [
        "<a href=\"https://colab.research.google.com/github/Nemo-netidol/Beta_programming/blob/main/%E0%B9%81%E0%B8%9A%E0%B8%9A%E0%B8%9D%E0%B8%B6%E0%B8%81%E0%B8%AB%E0%B8%B1%E0%B8%945.ipynb\" target=\"_parent\"><img src=\"https://colab.research.google.com/assets/colab-badge.svg\" alt=\"Open In Colab\"/></a>"
      ]
    },
    {
      "cell_type": "markdown",
      "source": [
        "# แบบฝึกหัด 5"
      ],
      "metadata": {
        "id": "U3ArbMi8JHGD"
      }
    },
    {
      "cell_type": "markdown",
      "source": [
        "---"
      ],
      "metadata": {
        "id": "t9RQYuu-JUwP"
      }
    },
    {
      "cell_type": "code",
      "source": [
        "import numpy as np\n",
        "import pandas as pd\n",
        "from scipy import stats\n",
        "import statistics\n",
        "from math import perm, comb"
      ],
      "metadata": {
        "id": "5LcuhePsgM1w"
      },
      "execution_count": null,
      "outputs": []
    },
    {
      "cell_type": "markdown",
      "source": [
        "###  "
      ],
      "metadata": {
        "id": "uoKssbJRv2Xu"
      }
    },
    {
      "cell_type": "markdown",
      "source": [
        "5.1 จากการวิจัยพบว่า 10% ของผู้สูบบุหรี่มากกว่า 2 มวนต่อวันจะพบความผิดปกติของปอด หากทำการสุ่มตัวอย่างผู้ที่สูบบุหรี่มากกว่า 2 มวนต่อวันจำนวน 10 คน จงหาความน่าจะเป็นของกรณีดังต่อไปนี้  \n",
        "- พบผู้ที่มีความผิดปกติของปอด 3 คน  "
      ],
      "metadata": {
        "id": "ag3TNOoapF2I"
      }
    },
    {
      "cell_type": "code",
      "source": [
        "#แสดงวิธีทำ\n",
        "e = stats.binom.pmf(p=0.1, n=10 , k=3)\n",
        "print(\"Probability is :\", e)"
      ],
      "metadata": {
        "id": "eGMlvK2UXrtE",
        "colab": {
          "base_uri": "https://localhost:8080/"
        },
        "outputId": "b1a2f52b-5a83-4ab0-bd35-6304779016dd"
      },
      "execution_count": null,
      "outputs": [
        {
          "output_type": "stream",
          "name": "stdout",
          "text": [
            "Probability is : 0.05739562799999998\n"
          ]
        }
      ]
    },
    {
      "cell_type": "markdown",
      "source": [
        "- ไม่มีผู้ที่ปอดมีความผิดปกติเลย"
      ],
      "metadata": {
        "id": "SOtKXJZ0Yhby"
      }
    },
    {
      "cell_type": "code",
      "source": [
        "#แสดงวิธีทำ\n",
        "e = stats.binom.pmf(p=0.1, n=10 , k=0)\n",
        "print(\"Probability is :\", e)"
      ],
      "metadata": {
        "id": "-h3uR0QVYlFA",
        "colab": {
          "base_uri": "https://localhost:8080/"
        },
        "outputId": "f8f28875-e849-49f6-d25a-3a708f28ae36"
      },
      "execution_count": null,
      "outputs": [
        {
          "output_type": "stream",
          "name": "stdout",
          "text": [
            "Probability is : 0.3486784401000001\n"
          ]
        }
      ]
    },
    {
      "cell_type": "markdown",
      "source": [
        "- พบผู้ที่มีความผิดปกติของปอดอย่างน้อย 1 คน"
      ],
      "metadata": {
        "id": "gvjrsGthYycb"
      }
    },
    {
      "cell_type": "code",
      "source": [
        "#แสดงวิธีทำ\n",
        "e = 1 - stats.binom.pmf(p=0.1, n=10 , k=0)\n",
        "print(\"Probability is :\", e)"
      ],
      "metadata": {
        "id": "NXgJ3SXgYmIC",
        "colab": {
          "base_uri": "https://localhost:8080/"
        },
        "outputId": "dbe2586d-7e69-4be5-cf0f-ce2fe24b4567"
      },
      "execution_count": null,
      "outputs": [
        {
          "output_type": "stream",
          "name": "stdout",
          "text": [
            "Probability is : 0.6513215599\n"
          ]
        }
      ]
    },
    {
      "cell_type": "markdown",
      "source": [
        "###  "
      ],
      "metadata": {
        "id": "sbZ2sthm9YOB"
      }
    },
    {
      "cell_type": "markdown",
      "source": [
        "5.2 ในพื้นที่สัมปทานเหมืองแร่ทองคำแห่งหนี่ง พบว่าในการออกพื้นที่สำรวจจะมีโอกาสพบสายแร่ทองคำ 15% หากบริษัท A ได้กำหนดพื้นที่เพื่อทำการสำรวจทั้งหมด 12 จุด จงหาความน่าจะเป็นของเหตุการณ์ต่อไปนี้ \n",
        "- พบสายแร่ทองคำทั้ง 12 จุด    "
      ],
      "metadata": {
        "id": "t7i3BrqK9YOB"
      }
    },
    {
      "cell_type": "code",
      "source": [
        "#แสดงวิธีทำ\n",
        "e = stats.binom.pmf(p=0.15, n=12, k=12)\n",
        "print(\"Probability is :\", e)"
      ],
      "metadata": {
        "id": "iqE8-wJaYvtI",
        "colab": {
          "base_uri": "https://localhost:8080/"
        },
        "outputId": "b8683738-1ac8-4280-bc8d-08f01783a6ff"
      },
      "execution_count": null,
      "outputs": [
        {
          "output_type": "stream",
          "name": "stdout",
          "text": [
            "Probability is : 1.2974633789062494e-10\n"
          ]
        }
      ]
    },
    {
      "cell_type": "markdown",
      "source": [
        "- ไม่พบสายแร่ทองคำทั้ง 12 จุด"
      ],
      "metadata": {
        "id": "H4G_eeDQ9TSd"
      }
    },
    {
      "cell_type": "code",
      "source": [
        "#แสดงวิธีทำ\n",
        "e = stats.binom.pmf(p=0.15, n=12, k=0)\n",
        "print(\"Probability is :\", e)"
      ],
      "metadata": {
        "id": "QZX4Vti1Yw3j",
        "colab": {
          "base_uri": "https://localhost:8080/"
        },
        "outputId": "c2327554-094c-4754-cbd3-f4992cc7beb9"
      },
      "execution_count": null,
      "outputs": [
        {
          "output_type": "stream",
          "name": "stdout",
          "text": [
            "Probability is : 0.14224175713617207\n"
          ]
        }
      ]
    },
    {
      "cell_type": "markdown",
      "source": [
        "- พบสายแร่ทองคำ 1 จุดเท่านั้น"
      ],
      "metadata": {
        "id": "hcYW6v-qAJDw"
      }
    },
    {
      "cell_type": "code",
      "source": [
        "#แสดงวิธีทำ\n",
        "e = stats.binom.pmf(p=0.15, n=12, k=1)\n",
        "print(\"Probability is :\", e)"
      ],
      "metadata": {
        "id": "hSdEoTSqYyjh",
        "colab": {
          "base_uri": "https://localhost:8080/"
        },
        "outputId": "b01974d6-0b8e-4645-daf9-aadcd3b760db"
      },
      "execution_count": null,
      "outputs": [
        {
          "output_type": "stream",
          "name": "stdout",
          "text": [
            "Probability is : 0.30121783864130575\n"
          ]
        }
      ]
    },
    {
      "cell_type": "markdown",
      "source": [
        "- พบสายแร่ทองคำอย่างน้อย 3 จุด"
      ],
      "metadata": {
        "id": "tjBxzS5IAezo"
      }
    },
    {
      "cell_type": "code",
      "source": [
        "#แสดงวิธีทำ\n",
        "e = 1 - ( stats.binom.pmf(p=0.15, n=12, k=2) + stats.binom.pmf(p=0.15, n=12, k=1) + stats.binom.pmf(p=0.15, n=12, k=0) )\n",
        "print(\"Probability is :\", e)"
      ],
      "metadata": {
        "id": "qDwjL7utYzeA",
        "colab": {
          "base_uri": "https://localhost:8080/"
        },
        "outputId": "c558a86c-20b8-45d0-b702-d8de8aaf01dc"
      },
      "execution_count": null,
      "outputs": [
        {
          "output_type": "stream",
          "name": "stdout",
          "text": [
            "Probability is : 0.264181913776549\n"
          ]
        }
      ]
    },
    {
      "cell_type": "markdown",
      "source": [
        "###  "
      ],
      "metadata": {
        "id": "yif8FzhRBNSq"
      }
    },
    {
      "cell_type": "markdown",
      "source": [
        "5.3 จากการเก็บข้อมูลการเล่นเกมส์ออนไลน์เกมส์หนึ่งพบว่า ผู้เล่นที่มีเลเวล 50 ขึ้นไป 10 คน จะมีผู้เล่นที่ซื้อแพ็กเกจ VIP จำนวน 3 คนโดยประมาณ หากสุ่มตัวอย่างผู้เล่นที่มีเลเวล 50 ขึ้นไปจำนวน 15 คน จงหาค่าความน่าจะเป็นของเหตุการณ์ต่อไปนี้  \n",
        "  \n",
        "- มีผู้เล่นอย่างน้อย 1 คนซื้อแพ็กเกจ VIP    "
      ],
      "metadata": {
        "id": "FgWhB3I9BNSq"
      }
    },
    {
      "cell_type": "code",
      "source": [
        "#แสดงวิธีทำ\n",
        "e = 1 - stats.binom.pmf(p=0.3, n=15, k=0)\n",
        "print(\"Probability is :\", e)"
      ],
      "metadata": {
        "id": "RqvCLlbzY1lq",
        "colab": {
          "base_uri": "https://localhost:8080/"
        },
        "outputId": "52813173-9c0c-4276-92d9-89ba900c1f01"
      },
      "execution_count": null,
      "outputs": [
        {
          "output_type": "stream",
          "name": "stdout",
          "text": [
            "Probability is : 0.995252438490057\n"
          ]
        }
      ]
    },
    {
      "cell_type": "markdown",
      "source": [
        "- ไม่มีผู้เล่นซื้อแพ็กเกจ VIP เลย"
      ],
      "metadata": {
        "id": "WhCBSP4mGDDk"
      }
    },
    {
      "cell_type": "code",
      "source": [
        "#แสดงวิธีทำ\n",
        "e = stats.binom.pmf(p=0.3, n=15, k=0)\n",
        "print(\"Probability is :\", e)"
      ],
      "metadata": {
        "id": "w6t6uwHrY4Dv",
        "colab": {
          "base_uri": "https://localhost:8080/"
        },
        "outputId": "7e5bc0a6-c800-43d5-93a0-69b73b205e74"
      },
      "execution_count": null,
      "outputs": [
        {
          "output_type": "stream",
          "name": "stdout",
          "text": [
            "Probability is : 0.004747561509942996\n"
          ]
        }
      ]
    },
    {
      "cell_type": "markdown",
      "source": [
        "- มีผู้เล่นน้อยกว่า 4 คนซื้อแพ็กเกจ VIP"
      ],
      "metadata": {
        "id": "KDo2aR-0GewE"
      }
    },
    {
      "cell_type": "code",
      "source": [
        "#แสดงวิธีทำ\n",
        "e = sum([stats.binom.pmf(p=0.3, n=15, k=x) for x in range(4)])\n",
        "print(\"Probability is :\", e)"
      ],
      "metadata": {
        "id": "uOJJMG3MY4-w",
        "colab": {
          "base_uri": "https://localhost:8080/"
        },
        "outputId": "dd877532-e438-4696-cf39-129a4b032f30"
      },
      "execution_count": null,
      "outputs": [
        {
          "output_type": "stream",
          "name": "stdout",
          "text": [
            "Probability is : 0.29686792788704786\n"
          ]
        }
      ]
    },
    {
      "cell_type": "markdown",
      "source": [
        "###  "
      ],
      "metadata": {
        "id": "nwSlXUPSHkQL"
      }
    },
    {
      "cell_type": "markdown",
      "source": [
        "5.4 จำนวนอุบัติเหตุอันเนื่องมาจากการจราจรที่สี่แยกแห่งหนึ่งโดยเฉลี่ยมี 3 รายต่อสัปดาห์ จงหาความ\n",
        "น่าจะเป็นที่จะมีอุบัติเหตุ 5 รายที่แยกแห่งนี้ในสัปดาห์หนึ่ง        "
      ],
      "metadata": {
        "id": "v04rtFN2HkQL"
      }
    },
    {
      "cell_type": "code",
      "source": [
        "#แสดงวิธีทำ\n",
        "y = 3 #lambda\n",
        "x = 5\n",
        "\n",
        "e = stats.poisson.pmf(mu=3, k=5)\n",
        "print(\"Probability is :\", e)"
      ],
      "metadata": {
        "id": "5RsjQd4AY_TX",
        "colab": {
          "base_uri": "https://localhost:8080/"
        },
        "outputId": "1f78d61b-d18d-4170-841c-e15c91073966"
      },
      "execution_count": null,
      "outputs": [
        {
          "output_type": "stream",
          "name": "stdout",
          "text": [
            "Probability is : 0.10081881344492458\n"
          ]
        }
      ]
    },
    {
      "cell_type": "markdown",
      "source": [
        "###  "
      ],
      "metadata": {
        "id": "LeBrVUJUKdo9"
      }
    },
    {
      "cell_type": "markdown",
      "source": [
        "5.5 จากการเก็บข้อมูลพบว่า server ของทางภาควิชาฯ จะถูกโจมตีจากผู้ไม่หวังดีโดยเฉลี่ย 6 ครั้งใน 1 วันจงหาความน่าจะเป็นที่ใน 1 วัน server ของทางภาควิชาฯ จะถูกโจมตี 6 - 8 ครั้ง        "
      ],
      "metadata": {
        "id": "LoAlPE5XKdo9"
      }
    },
    {
      "cell_type": "code",
      "source": [
        "#แสดงวิธีทำ\n",
        "\n",
        "e = stats.poisson.pmf(mu=6, k=6) + stats.poisson.pmf(mu=6, k=7) + stats.poisson.pmf(mu=6, k=8)\n",
        "print(\"Probability is :\", e)"
      ],
      "metadata": {
        "id": "TeGeHVgMZDfr",
        "colab": {
          "base_uri": "https://localhost:8080/"
        },
        "outputId": "c5a835bb-229f-4750-fd03-bcc2cfe086e2"
      },
      "execution_count": null,
      "outputs": [
        {
          "output_type": "stream",
          "name": "stdout",
          "text": [
            "Probability is : 0.40155785261995003\n"
          ]
        }
      ]
    },
    {
      "cell_type": "markdown",
      "source": [
        "###  "
      ],
      "metadata": {
        "id": "r_ZjNP1PL2uu"
      }
    },
    {
      "cell_type": "markdown",
      "source": [
        "5.6 จากการเก็บข้อมูลอายุของเด็กที่ติดเกมส์มือถือพบว่ามีการแจกแจงของอายุเป็นแบบปกติ และมีค่าเฉลี่ยเท่ากับ 11.5 ปี\n",
        "และค่าเบี่ยงเบนมาตรฐานเท่ากับ 3 ปี   \n",
        "หากพบเด็กคนหนึ่งติดเกมส์ จงหาความน่าจะเป็นที่เด็กผู้นี้  \n",
        "- มีอายุอยู่ระหว่าง 8.5 และ 14.5 ปี  "
      ],
      "metadata": {
        "id": "STASxmjEL2uu"
      }
    },
    {
      "cell_type": "code",
      "source": [
        "#แสดงวิธีทำ\n",
        "a = (8.5 - 11.5) / 3\n",
        "b = (14.5 - 11.5) / 3\n",
        "\n",
        "e = stats.norm.cdf(b) - stats.norm.cdf(a)\n",
        "print(\"Probability is :\", e)"
      ],
      "metadata": {
        "id": "rVbSeQ9-ZGf9",
        "colab": {
          "base_uri": "https://localhost:8080/"
        },
        "outputId": "beb3a1e8-57c5-49b9-9b84-bc94fb95608a"
      },
      "execution_count": null,
      "outputs": [
        {
          "output_type": "stream",
          "name": "stdout",
          "text": [
            "Probability is : 0.6826894921370859\n"
          ]
        }
      ]
    },
    {
      "cell_type": "markdown",
      "source": [
        "- มีอายุต่ำกว่า 12 ปี"
      ],
      "metadata": {
        "id": "7S4XGGO5P4tI"
      }
    },
    {
      "cell_type": "code",
      "source": [
        "#แสดงวิธีทำ\n",
        "c = (12 - 11.5) / 3\n",
        "e = stats.norm.cdf(c)\n",
        "print(\"Probability is :\", e)"
      ],
      "metadata": {
        "id": "AWfLt0NZZHqY",
        "colab": {
          "base_uri": "https://localhost:8080/"
        },
        "outputId": "611715be-a2cf-4358-b498-b4465c4962d9"
      },
      "execution_count": null,
      "outputs": [
        {
          "output_type": "stream",
          "name": "stdout",
          "text": [
            "Probability is : 0.5661838326109037\n"
          ]
        }
      ]
    },
    {
      "cell_type": "markdown",
      "source": [
        "- มีอายุเกินกว่า 10 ปีขึ้นไป"
      ],
      "metadata": {
        "id": "2g0qLDviQY8b"
      }
    },
    {
      "cell_type": "code",
      "source": [
        "#แสดงวิธีทำ\n",
        "\n",
        "d = (10 - 11.5) / 3\n",
        "e = stats.norm.sf(d)\n",
        "print(\"Probability is :\", e)"
      ],
      "metadata": {
        "id": "U1H1mx2ZZI6I",
        "colab": {
          "base_uri": "https://localhost:8080/"
        },
        "outputId": "0479e91d-1105-4f50-d6e2-be0146ca0054"
      },
      "execution_count": null,
      "outputs": [
        {
          "output_type": "stream",
          "name": "stdout",
          "text": [
            "Probability is : 0.6914624612740131\n"
          ]
        }
      ]
    },
    {
      "cell_type": "markdown",
      "source": [
        "###  "
      ],
      "metadata": {
        "id": "floehrzxQp4u"
      }
    },
    {
      "cell_type": "markdown",
      "source": [
        "5.7 ถ้าระดับค่าคลอเรสเตอรอลในประชากรกลุ่มหนึ่งมีการแจกแจงแบบปกติ มีค่าเฉลี่ยเท่ากับ 200 mg/\n",
        "100 ml และค่าเบี่ยงเบนมาตรฐานเท่ากับ 20 mg/100 ml จงหาความน่าจะเป็นที่จะเลือกได้บุคคลหนึ่ง\n",
        "จากประชากรกลุ่มนี้ แล้วพบว่าระดับคอเรสเตอรอลมีค่า  \n",
        "- ระหว่าง 180 และ 200 mg/100 ml  "
      ],
      "metadata": {
        "id": "xMohIA7jQp4u"
      }
    },
    {
      "cell_type": "code",
      "source": [
        "mew = 200\n",
        "sigma = 20"
      ],
      "metadata": {
        "id": "TMehlNYaXYM0"
      },
      "execution_count": null,
      "outputs": []
    },
    {
      "cell_type": "code",
      "source": [
        "#แสดงวิธีทำ\n",
        "z1 = (180 - mew) / sigma\n",
        "z2 = (200 - mew) / sigma\n",
        "\n",
        "e = stats.norm.cdf(z2) - stats.norm.cdf(z1)\n",
        "print(\"Probability is :\", e)"
      ],
      "metadata": {
        "id": "-A17QfPuZM77",
        "colab": {
          "base_uri": "https://localhost:8080/"
        },
        "outputId": "2e1709ba-e5f3-4c49-fcdd-2f7bc5d4dc27"
      },
      "execution_count": null,
      "outputs": [
        {
          "output_type": "stream",
          "name": "stdout",
          "text": [
            "Probability is : 0.3413447460685429\n"
          ]
        }
      ]
    },
    {
      "cell_type": "markdown",
      "source": [
        "- เกินกว่า 225 mg/100 ml "
      ],
      "metadata": {
        "id": "VrDTcamkTDlO"
      }
    },
    {
      "cell_type": "code",
      "source": [
        "#แสดงวิธีทำ\n",
        "e = stats.norm.sf( (225-mew) / sigma )\n",
        "print(\"Probability is :\", e)"
      ],
      "metadata": {
        "id": "vKuF704LZOX_",
        "colab": {
          "base_uri": "https://localhost:8080/"
        },
        "outputId": "41fb61a9-5944-48e2-9b29-3b93738e9861"
      },
      "execution_count": null,
      "outputs": [
        {
          "output_type": "stream",
          "name": "stdout",
          "text": [
            "Probability is : 0.10564977366685535\n"
          ]
        }
      ]
    },
    {
      "cell_type": "markdown",
      "source": [
        "- ระหว่าง 190 และ 210 mg/100 ml"
      ],
      "metadata": {
        "id": "wnACIhNsTEdT"
      }
    },
    {
      "cell_type": "code",
      "source": [
        "#แสดงวิธีทำ\n",
        "z1 = (190 - mew) / sigma\n",
        "z2 = (210 - mew) / sigma\n",
        "\n",
        "e = stats.norm.cdf(z2) - stats.norm.cdf(z1)\n",
        "print(\"Probability is :\", e)"
      ],
      "metadata": {
        "id": "8N-XVkZTZP9S",
        "colab": {
          "base_uri": "https://localhost:8080/"
        },
        "outputId": "214d0ea7-a22b-4cb5-bb98-8be736b1486d"
      },
      "execution_count": null,
      "outputs": [
        {
          "output_type": "stream",
          "name": "stdout",
          "text": [
            "Probability is : 0.38292492254802624\n"
          ]
        }
      ]
    },
    {
      "cell_type": "markdown",
      "source": [
        "- น้อยกว่า 150 mg/100 ml"
      ],
      "metadata": {
        "id": "00fXCreGTFAM"
      }
    },
    {
      "cell_type": "code",
      "source": [
        "#แสดงวิธีทำ\n",
        "\n",
        "e = stats.norm.cdf( (150 - mew) / sigma )\n",
        "print(\"Probability is :\", e)"
      ],
      "metadata": {
        "id": "mZZ7T_QdZRQb",
        "colab": {
          "base_uri": "https://localhost:8080/"
        },
        "outputId": "35e1b4d9-46b2-4dd9-ff5b-d3da7bd90fb7"
      },
      "execution_count": null,
      "outputs": [
        {
          "output_type": "stream",
          "name": "stdout",
          "text": [
            "Probability is : 0.006209665325776132\n"
          ]
        }
      ]
    },
    {
      "cell_type": "markdown",
      "source": [
        "###  "
      ],
      "metadata": {
        "id": "Mu4lT_CApF2I"
      }
    }
  ]
}