{
  "nbformat": 4,
  "nbformat_minor": 0,
  "metadata": {
    "colab": {
      "provenance": [],
      "include_colab_link": true
    },
    "kernelspec": {
      "name": "python3",
      "display_name": "Python 3"
    },
    "language_info": {
      "name": "python"
    }
  },
  "cells": [
    {
      "cell_type": "markdown",
      "metadata": {
        "id": "view-in-github",
        "colab_type": "text"
      },
      "source": [
        "<a href=\"https://colab.research.google.com/github/Nemo-netidol/Beta_programming/blob/main/%E0%B9%81%E0%B8%9A%E0%B8%9A%E0%B8%9D%E0%B8%B6%E0%B8%81%E0%B8%AB%E0%B8%B1%E0%B8%947.ipynb\" target=\"_parent\"><img src=\"https://colab.research.google.com/assets/colab-badge.svg\" alt=\"Open In Colab\"/></a>"
      ]
    },
    {
      "cell_type": "markdown",
      "source": [
        "# แบบฝึกหัด 7"
      ],
      "metadata": {
        "id": "U3ArbMi8JHGD"
      }
    },
    {
      "cell_type": "markdown",
      "source": [
        "---"
      ],
      "metadata": {
        "id": "t9RQYuu-JUwP"
      }
    },
    {
      "cell_type": "code",
      "source": [
        "import numpy as np\n",
        "from scipy import stats\n",
        "from statsmodels.stats.weightstats import ztest"
      ],
      "metadata": {
        "id": "5LcuhePsgM1w"
      },
      "execution_count": null,
      "outputs": []
    },
    {
      "cell_type": "markdown",
      "source": [
        "7.1 จากการเก็บข้อมูลของบูธร้านค้าร้านหนึ่งในงานเกษตรแฟร์โดยสุ่มตัวอย่างลูกค้ามาทั้งหมด 200 คน พบว่ามีอายุเฉลี่ย 42.8 ปี ส่วนเบี่ยงเบนมาตราฐาน 6.89 ปี ผู้ประกอบการร้านแห่งนี้จึงตั้งสมมุติฐานว่า ลูกค้าของทางร้านมีอายุเฉลี่ยสูงกว่า 40 ปี ที่ระดับนัยสำคัญ 0.01 สมมุติฐานนี้ถูกต้องหรือไม่ หากกำหนดให้การแจกแจงของอายุเป็นแบบปกติ  "
      ],
      "metadata": {
        "id": "ag3TNOoapF2I"
      }
    },
    {
      "cell_type": "code",
      "source": [
        "#แสดงวิธีทำ\n",
        "# h0 : อายุลูกค้า <= 40 ปี\n",
        "# h1 : อายุลูกค้า > 40 ปี\n",
        "# right-tailed test\n",
        "\n",
        "n = 200\n",
        "x_bar = 42.8\n",
        "s = 6.89\n",
        "alpha = 0.01\n",
        "acceptance_region = 1 - 0.01\n",
        "z_cal = (x_bar - 40) / ( s / np.sqrt(n) )\n",
        "\n",
        "z_critical = stats.norm.isf(0.01)\n",
        "z_cal\n",
        "print(\"Z_cal:\", z_cal)\n",
        "print(\"z_critical:\", z_critical)\n",
        "\n",
        "#z_cal อยู่นอกบริเวณ critical จึงยอมรับว่า H0 เป็นจริง\n",
        "print(\"z_cal อยู่นอกบริเวณ critical จึงยอมรับว่า H0 เป็นจริง\")"
      ],
      "metadata": {
        "id": "eGMlvK2UXrtE",
        "colab": {
          "base_uri": "https://localhost:8080/"
        },
        "outputId": "2e84a421-2437-4a38-da76-c9b0772d2ba1"
      },
      "execution_count": null,
      "outputs": [
        {
          "output_type": "stream",
          "name": "stdout",
          "text": [
            "Z_cal: 5.747166871762936\n",
            "z_critical: 2.3263478740408408\n",
            "z_cal อยู่นอกบริเวณ critical จึงยอมรับว่า H0 เป็นจริง\n"
          ]
        }
      ]
    },
    {
      "cell_type": "code",
      "source": [
        "p_value = stats.norm.sf(z_cal)\n",
        "p_value\n",
        "print(\"p_value is greater than alpha value so we have to accept hypothesis H0\")\n",
        "print(f\"p_value = {p_value}\")\n",
        "print(f\"alpha = {alpha}\")"
      ],
      "metadata": {
        "colab": {
          "base_uri": "https://localhost:8080/"
        },
        "id": "Z1aF1wy3JMU4",
        "outputId": "ed3c8e5c-b944-4abe-d53c-68f9b8979e3c"
      },
      "execution_count": null,
      "outputs": [
        {
          "output_type": "stream",
          "name": "stdout",
          "text": [
            "p_value is greater than alpha value so we have to accept hypothesis H0\n",
            "p_value = 0.5\n",
            "alpha = 0.01\n"
          ]
        }
      ]
    },
    {
      "cell_type": "markdown",
      "source": [
        "###   "
      ],
      "metadata": {
        "id": "IzcoD0hL8AQB"
      }
    },
    {
      "cell_type": "markdown",
      "source": [
        "7.2 สุ่มตัวอย่างผลิตภัณฑ์ซักล้างยี่ห้อหนึ่งมาจำนวน 8 ชิ้นเพื่อวัดปริมาณสารพิษ พบว่าได้ปริมาณดังนี้ (10<sup>6</sup>ppm) 15, 8, 10, 13, 6, 16, 11, 18 จงทดสอบว่าปริมาณสารพิษของผลิตภัณฑ์ซักล้างยี่ห้อนี้มากกว่าหรือเท่ากับ (≥) 18x10<sup>6</sup>ppm ที่ระดับนัยสำคัญ 0.05 หรือไม่ หากกำหนดให้ปริมาณสารพิษชนิดนี้มีการแจกแจงแบบปกติ      "
      ],
      "metadata": {
        "id": "QIrBZzg28EEi"
      }
    },
    {
      "cell_type": "code",
      "source": [
        "#แสดงวิธีทำ\n",
        "\n",
        "# H0 >= 18 (106ppm)\n",
        "# H1 < 18 (106ppm)\n",
        "# left-tailed test\n",
        "alpha = 0.05\n",
        "n = 8\n",
        "# n < 30 use t score method\n",
        "sample = [15, 8, 10, 13, 6, 16, 11, 18]\n",
        "x_bar = np.mean(sample)\n",
        "s = np.std(sample, ddof = 1)\n",
        "t_cal = (x_bar - 18) / (s / np.sqrt(8))\n",
        "\n",
        "t_critical = stats.t.ppf(0.05, df=n-1)\n",
        "\n",
        "print(\"t_cal:\", t_cal)\n",
        "print(\"t_critical:\", t_critical)\n",
        "print(\"\\n\")\n",
        "print(\"t_cal อยู่ในบริเวณปฎิเสธ จึงยอมรับ H1\")\n"
      ],
      "metadata": {
        "id": "z7-tVncsuMB2",
        "colab": {
          "base_uri": "https://localhost:8080/"
        },
        "outputId": "2119bd33-12e4-4d61-dce3-36b21cad8937"
      },
      "execution_count": null,
      "outputs": [
        {
          "output_type": "stream",
          "name": "stdout",
          "text": [
            "t_cal: -4.032335130364934\n",
            "t_critical: -1.8945786050613054\n",
            "\n",
            "\n",
            "t_cal อยู่ในบริเวณปฎิเสธ จึงยอมรับ H1\n"
          ]
        }
      ]
    },
    {
      "cell_type": "code",
      "source": [
        "z_cal, p_value = ztest(x1=sample, value=18, alternative=\"larger\")\n",
        "print(z_cal, p_value)"
      ],
      "metadata": {
        "colab": {
          "base_uri": "https://localhost:8080/"
        },
        "id": "H1aJX2FVfbpo",
        "outputId": "ed58470a-c953-43db-bd2a-a87d058732f6"
      },
      "execution_count": null,
      "outputs": [
        {
          "output_type": "stream",
          "name": "stdout",
          "text": [
            "-4.032335130364934 0.9999723873215141\n"
          ]
        }
      ]
    },
    {
      "cell_type": "code",
      "source": [
        "p_value = stats.t.sf(t_cal, df=7)\n",
        "print(\"p_value\", p_value)\n",
        "print(\"alpha\", alpha)\n",
        "\n",
        "print(\"ค่า p_value มีค่าน้อยกว่า alpha จึงยอมรับ H1\")"
      ],
      "metadata": {
        "colab": {
          "base_uri": "https://localhost:8080/"
        },
        "id": "3YPFxkZOPZQ-",
        "outputId": "58099645-34e5-4526-ed77-9ddf9beb6684"
      },
      "execution_count": null,
      "outputs": [
        {
          "output_type": "stream",
          "name": "stdout",
          "text": [
            "p_value 0.9975094875235315\n",
            "alpha 0.05\n",
            "ค่า p_value มีค่าน้อยกว่า alpha จึงยอมรับ H1\n"
          ]
        }
      ]
    },
    {
      "cell_type": "markdown",
      "source": [
        "###   "
      ],
      "metadata": {
        "id": "NfuOc0DEX-mV"
      }
    },
    {
      "cell_type": "markdown",
      "source": [
        "7.3 ทำการ ping 158.108.216.5 จำนวน 10 ครั้ง ได้ระยะเวลาในหน่วย ms (milliseconds) ดังนี้ 28.2, 26.5, 30.7, 24.1, 25.3, 29.2, 21.6, 26.7, 23.4, 27.3 จงทดสอบว่าระยะเวลาที่ใช้ในการ ping โดยเฉลี่ยมีค่าเท่ากับ 26 ms หรือไม่ที่ระดับนัยสำคัญ 0.05 หากทราบมาว่าระยะเวลาที่ใช้ในการ ping มีการแจกแจงแบบปกติ"
      ],
      "metadata": {
        "id": "LRa6VC8dX-mc"
      }
    },
    {
      "cell_type": "code",
      "source": [
        "# H0 = 26\n",
        "# H1 != 26\n",
        "# Two sided test\n",
        "\n",
        "sample = [28.2, 26.5, 30.7, 24.1, 25.3, 29.2, 21.6, 26.7, 23.4, 27.3]\n",
        "n = 10\n",
        "alpha = 0.05\n",
        "x_bar = np.mean(sample)\n",
        "s = np.std(sample, ddof=1)\n",
        "\n",
        "t_cal = (x_bar - 26) / ( s / np.sqrt(n) )\n",
        "t_cal\n",
        "v = 9\n",
        "left_crit = stats.t.ppf(0.05/2, df=v)\n",
        "right_crit = stats.t.isf(0.05/2, df=v)\n",
        "\n",
        "print(f'Critical value on the left : {left_crit:.3f}')\n",
        "print(f'Critical value on the right : {right_crit:.3f}')\n",
        "print(f't_cal : {t_cal:.3f}')\n",
        "print(\"t_cal อยู่นอกบริเวณปฎิเสธ จึงยอมรับ H0\")"
      ],
      "metadata": {
        "colab": {
          "base_uri": "https://localhost:8080/"
        },
        "id": "vpyrBbqVSSSx",
        "outputId": "1a9083da-726c-47a4-be97-1a7cb524f893"
      },
      "execution_count": null,
      "outputs": [
        {
          "output_type": "stream",
          "name": "stdout",
          "text": [
            "Critical value on the left : -2.262\n",
            "Critical value on the right : 2.262\n",
            "t_cal : 0.343\n",
            "t_cal อยู่นอกบริเวณปฎิเสธ จึงยอมรับ H0\n"
          ]
        }
      ]
    },
    {
      "cell_type": "code",
      "source": [
        "t_cal, p_value = stats.ttest_1samp(a=sample, popmean=x_bar, alternative='two-sided')\n",
        "print(t_cal, p_value)\n",
        "# ???????"
      ],
      "metadata": {
        "colab": {
          "base_uri": "https://localhost:8080/"
        },
        "id": "MoOhgwVLebSx",
        "outputId": "f6532dd1-5a37-49e6-b0c8-23cbbc82fc07"
      },
      "execution_count": null,
      "outputs": [
        {
          "output_type": "stream",
          "name": "stdout",
          "text": [
            "0.0 1.0\n"
          ]
        }
      ]
    },
    {
      "cell_type": "code",
      "source": [
        "p_value = 2*stats.t.sf(abs(t_cal), df=n-1)\n",
        "alpha = 0.05\n",
        "print(\"p_value :\", p_value)\n",
        "print(\"alpha :\", alpha)\n",
        "print(\"\\n\")\n",
        "print(\"ค่า p-value มีค่ามากกว่า alpha จึงยอมรับ H0\")"
      ],
      "metadata": {
        "colab": {
          "base_uri": "https://localhost:8080/"
        },
        "id": "GjdOZJJUWV25",
        "outputId": "fc32dc5f-da38-4413-bd27-849d315cf7e9"
      },
      "execution_count": null,
      "outputs": [
        {
          "output_type": "stream",
          "name": "stdout",
          "text": [
            "p_value : 1.0\n",
            "alpha : 0.05\n",
            "\n",
            "\n",
            "ค่า p-value มีค่ามากกว่า alpha จึงยอมรับ H0\n"
          ]
        }
      ]
    },
    {
      "cell_type": "markdown",
      "source": [
        "###   "
      ],
      "metadata": {
        "id": "2L30gP1ae_Du"
      }
    },
    {
      "cell_type": "markdown",
      "source": [
        "7.4 ห้องปฏิบัติการ 2 แห่ง สุ่มตรวจสอบปริมาณนิโคตินในบุหรี่ยี่ห้อหนึ่งด้ผลการวิเคราะห์ปริมาณนิโคติน (มิลลิกรัม) ดังนี้  \n",
        "ห้องปฏิบัติการ1: 56, 37, 61, 56, 65, 41, 63, 50, 42   \n",
        "ห้องปฏิบัติการ2: 46, 25, 46, 64, 34, 56   \n",
        "จงทดสอบสมมติฐานว่าปริมาณนิโคตินที่วิเคราะห์ได้โดยห้องปฏิบัติการสองแห่งนี้ไม่แตกต่างกัน\n",
        "ที่ระดับนัยสำคัญ 0.10 หากกำหนดให้ปริมาณนิโคตินในบุหรี่ที่วิเคราะห์ได้โดยห้องปฏิบัติการทั้งสองมีการ\n",
        "แจกแจงแบบปกติที่มีค่าความแปรปรวนเท่ากัน  "
      ],
      "metadata": {
        "id": "jb1NBlWke_D2"
      }
    },
    {
      "cell_type": "code",
      "source": [
        "#แสดงวิธีทำ\n",
        "# H0 mew1 - mew2 = 0\n",
        "# H1 mew1 - mew2 != 0\n",
        "# two sided test\n",
        "# Variances are both equal\n",
        "\n",
        "lab1 = [56, 37, 61, 56, 65, 41, 63, 50, 42] # 9\n",
        "lab2 = [46, 25, 46, 64, 34, 56] # 5\n",
        "alpha = 0.10\n",
        "n1 = len(lab1)\n",
        "n2 = len(lab2)\n",
        "df = len(lab1) + len(lab2) - 2\n",
        "xbar1 = np.mean(lab1)\n",
        "xbar2 = np.mean(lab2)\n",
        "v1 = np.var(lab1, ddof=1)\n",
        "v2 = np.var(lab2, ddof=1)\n",
        "s2p =  ( (n1 - 1) * v1 + (n2 - 1)* v2 ) / (n1 + n2 - 2)\n",
        " \n",
        "t_cal = ( (xbar1 - xbar2) - 0) / np.sqrt(s2p * ( 1/n1 + 1/n2 ))\n",
        "\n",
        "t_crit_left = stats.t.ppf(0.1/2, df=df)\n",
        "t_crit_right = stats.t.isf(0.1/2, df=df)\n",
        "\n",
        "# print(t_crit_left, t_crit_right)\n",
        "print(f'Critical value on the left: {t_crit_left:.3f}')\n",
        "print(f'Critical value on the right: {t_crit_right:.3f}')\n",
        "print(f't_cal : {t_cal:.3f}\\n')\n",
        "print(\"t_cal value is not surpass any critical value so we accept hypothesis H0.\")"
      ],
      "metadata": {
        "id": "r4oVfpk9uTVG",
        "colab": {
          "base_uri": "https://localhost:8080/"
        },
        "outputId": "abe12485-9f0f-4654-cb3f-99003d825e63"
      },
      "execution_count": null,
      "outputs": [
        {
          "output_type": "stream",
          "name": "stdout",
          "text": [
            "Critical value on the left: -1.771\n",
            "Critical value on the right: 1.771\n",
            "t_cal : 1.138\n",
            "\n",
            "t_cal value is not surpass any critical value so we accept hypothesis H0.\n"
          ]
        }
      ]
    },
    {
      "cell_type": "code",
      "source": [
        "# p-value\n",
        "p_value = 2 * stats.t.sf(abs(t_cal), df=df)\n",
        "\n",
        "print(\"p-value :\", p_value)\n",
        "print(f'The p-value is more than alpha. Therefore, we accept hypothesis H0')"
      ],
      "metadata": {
        "colab": {
          "base_uri": "https://localhost:8080/"
        },
        "id": "Pzy96dM5sn-f",
        "outputId": "26e617a4-5999-4df1-8a6e-5f2afea3dcf3"
      },
      "execution_count": null,
      "outputs": [
        {
          "output_type": "stream",
          "name": "stdout",
          "text": [
            "p-value : 0.2757530487532558\n",
            "The p-value is more than alpha. Therefore, we accept hypothesis H0\n"
          ]
        }
      ]
    },
    {
      "cell_type": "code",
      "source": [
        "stats.ttest_ind(a=lab1, b=lab2, alternative = 'two-sided', equal_var=True)"
      ],
      "metadata": {
        "colab": {
          "base_uri": "https://localhost:8080/"
        },
        "id": "XEwGd2J5qx_i",
        "outputId": "ad58d9fd-499b-45fc-bd8f-c28dfc9d8fe9"
      },
      "execution_count": null,
      "outputs": [
        {
          "output_type": "execute_result",
          "data": {
            "text/plain": [
              "Ttest_indResult(statistic=1.1377678816988284, pvalue=0.2757530487532558)"
            ]
          },
          "metadata": {},
          "execution_count": 4
        }
      ]
    },
    {
      "cell_type": "markdown",
      "source": [
        "###   "
      ],
      "metadata": {
        "id": "HV7pSFLVjP8J"
      }
    },
    {
      "cell_type": "markdown",
      "source": [
        "7.5 เครื่องใช้พลาสติกชนิดหนึ่ง ผลิตโดยกระบวนการผลิตแตกต่างกัน 2 วิธี คือ A และ B ต้องการตรวจสอบความ\n",
        "เหนียวของพลาสติกที่ผลิตได้โดยทั้งสองกระบวนการนี้ว่าแตกต่างกันหรือไม่ จึงสุ่มตัวอย่าง\n",
        "ผลิตภัณฑ์จากกระบวนการผลิต A มา 30 ชิ้น ทดสอบและคำนวณค่าความเหนียวเฉลี่ยได้เป็น\n",
        "28.3 ส่วนเบี่ยงเบนมาตรฐาน 3.3 เมื่อสุ่มผลิตภัณฑ์จากกระบวนการผลิต B 40 ชิ้น คำนวณค่าความเหนียวเฉลี่ยได้เป็น 26.7 ส่วนเบี่ยงเบนมาตรฐานเป็น 4.9 หากการทดสอบโดยใช้ระดับนัยสำคัญ 0.05  "
      ],
      "metadata": {
        "id": "9IshON3wjP8J"
      }
    },
    {
      "cell_type": "code",
      "source": [
        "#แสดงวิธีทำ\n",
        "# H0 = mew1 - mew2 = 0\n",
        "# H1 = mew1 - mew2 != 0\n",
        "# two sided test\n",
        "\n",
        "# A\n",
        "na = 30\n",
        "a_mean = 28.3\n",
        "sa = 3.3\n",
        "s2a = 3.3 ** 2\n",
        "nb = 40\n",
        "# B\n",
        "nb = 40\n",
        "b_mean = 26.7\n",
        "sb = 4.9\n",
        "s2b = 4.9 ** 2\n",
        "\n",
        "alpha = 0.05 \n",
        "\n",
        "z_cal = ( a_mean - b_mean ) / ( np.sqrt( (s2a / na) + (s2b/nb) ) )\n",
        "# z_cal = ( na - nb ) / ( np.sqrt( (s2a / na) + (s2b/nb) ) )\n",
        "print(z_cal, \"\\n\")\n",
        "left_crit = stats.norm.ppf(0.05/2)\n",
        "right_crit = stats.norm.isf(0.05/2)\n",
        "print(f'Critical value on the left: {left_crit:.3f}')\n",
        "print(f'Critical value on the right: {right_crit:.3f}')\n",
        "print(f'z_cal : {z_cal:.3f}\\n')\n",
        "\n",
        "print(\"ค่า z_cal อยู่นอกบริเวณปฎิเสธ เราจึงยอมรับสมมุติฐาน H0 ว่าเป็นจริง\")"
      ],
      "metadata": {
        "id": "HA_rpEPNuUdd",
        "colab": {
          "base_uri": "https://localhost:8080/"
        },
        "outputId": "1634ee23-e7a9-46f1-c51c-c41ae5f425a0"
      },
      "execution_count": null,
      "outputs": [
        {
          "output_type": "stream",
          "name": "stdout",
          "text": [
            "1.6302359794089838 \n",
            "\n",
            "Critical value on the left: -1.960\n",
            "Critical value on the right: 1.960\n",
            "z_cal : 1.630\n",
            "\n",
            "ค่า z_cal อยู่นอกบริเวณปฎิเสธ เราจึงยอมรับสมมุติฐาน H0 ว่าเป็นจริง\n"
          ]
        }
      ]
    },
    {
      "cell_type": "code",
      "source": [
        "#p-value\n",
        "p_value = stats.norm.cdf(z_cal)\n",
        "print(f\"p-value : {p_value:.3f}\")\n",
        "print(f'Alpha : {alpha}')\n",
        "print(\"P-value is more than alpha value thus we accept hypothesis H0\")"
      ],
      "metadata": {
        "colab": {
          "base_uri": "https://localhost:8080/"
        },
        "id": "5Qu29p81O2XJ",
        "outputId": "ebcc3248-bb99-453e-e9fa-1ccfefd2089a"
      },
      "execution_count": null,
      "outputs": [
        {
          "output_type": "stream",
          "name": "stdout",
          "text": [
            "p-value : 0.948\n",
            "Alpha : 0.05\n",
            "P-value is more than alpha value thus we accept hypothesis H0\n"
          ]
        }
      ]
    }
  ]
}